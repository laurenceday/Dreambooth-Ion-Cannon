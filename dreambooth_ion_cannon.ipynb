{
 "cells": [
  {
   "cell_type": "markdown",
   "metadata": {},
   "source": [
    "# The Dreambooth Ion Cannon"
   ]
  },
  {
   "cell_type": "markdown",
   "metadata": {},
   "source": [
    "    The first thing I need to say is that this is not original work.\n",
    "    \n",
    "    It is based off of \"The Repo Formerly Known As Dreambooth\" by Joe Penna and his many extraordinarily talented collaborators, and further tweaks to the training process have been made by my friend Kane Wallmann. I am in awe of them, and owe them all a bottle of something from the top shelf.\n",
    "    \n",
    "    This variant of the repository is not an \"improvement\" per se - rather, it is a simplification of the process of\n",
    "    image generation by virtue of abstracting away details such as requiring you to interface with external sites, and\n",
    "    providing some prompts that I've found work quite well across the board.\n",
    "    \n",
    "    There is still a level of technical know-how required, however you - the intended audience - are unlikely to be\n",
    "    reading this unless you've already followed part of the guide in the README for this repository fork, so you're\n",
    "    already most of the way there.\n",
    "    \n",
    "    Over the course of a first run of this repository, approximately 5.2GB will be downloaded (excluding packages).\n",
    "    You won't have to worry about those downloads though, they happen automatically, just note that they take time.\n",
    "    \n",
    "    There may well be long stretches of time where it looks to you as if nothing is happening (i.e. no images are\n",
    "    appearing in the /outputs directory). If the icon for the tab that this notebook is running in is an orange \n",
    "    hour-glass, things are still grinding along. If it's changed back to an orange book, then it's done.\n",
    "    \n",
    "    While you're running things, you can scroll down and see which cells have 'completed' and which are either running\n",
    "    or are still scheduled to run. To the left of each cell is a little [] icon - if it looks like [*] it's still queued,\n",
    "    whereas if it's got a number in it like [5] then it has already completed.\n",
    "    \n",
    "    Some provisos:\n",
    "        * I have bundled Stable Diffusion 1.4 in the repository containing this notebook. Please read the license \n",
    "          file `STABLE DIFFUSION LICENSE.md` in order to understand what you implicitly agree to by making use of this tech.\n",
    "          The long and short of it is that so long as you don't approach this tool with ill intent, you're fine.\n",
    "        * Despite Kane's adjustments enabling multi-subject training, this repo *at present* is designed to only accept \n",
    "          one subject at a time - that's what the prompts are expecting, so training multiple people is a waste. In future\n",
    "          iterations of this repository, I will introduce some branching logic allowing you to select how many people you\n",
    "          want to include in the generated images.\n",
    "          \n",
    "    I hope that that this inspires a little bit of wonder in you.\n",
    "    \n",
    "    /Laurence"
   ]
  },
  {
   "cell_type": "markdown",
   "metadata": {},
   "source": [
    "# Naming And Classification"
   ]
  },
  {
   "cell_type": "markdown",
   "metadata": {},
   "source": [
    "\\*\\*\\* This is the **only** cell you have to edit. \\*\\*\\* \n",
    "\n",
    "Before you opened this notebook per instructions from the repository, you should have uploaded 8-10 .png photographs of the person you are trying to generate images for into the directory `/training_samples/{class}` with filenames:\n",
    "\n",
    "* `name class_001.png`\n",
    "* `name class_001.png`\n",
    "* ...\n",
    "* `name class_00n.png`\n",
    "\n",
    "If you haven't done this, go back to the README of this repository (scroll down from the link you were given) and give it a go.\n",
    "\n",
    "Your choices for class are `man`, `woman`, `person`, `dog` or `cat`, whereas name is dealers choice, but do keep it as a single word (i.e. no spaces).\n",
    "\n",
    "**For example**, if you're trying to train on Princess Diana, your files would be called `princessdiana woman_001.png` et cetera.\n",
    "\n",
    "**It is advisable to use a name choice so that - if you're called Willow, for example - the model doesn't think you're Willow from Buffy, or think you're Asian if your name is Jian. I recommend using a name such as `jianthisisdefinitelyme` if you have a name that could cause confusion.**\n",
    "\n",
    "The spacing and underscores are important here, so please double-check.\n",
    "\n",
    "In the cell below, edit the variables to reflect the `name` and `class` you have chosen. _Again_, please check for accuracy."
   ]
  },
  {
   "cell_type": "code",
   "execution_count": null,
   "metadata": {
    "scrolled": true
   },
   "outputs": [],
   "source": [
    "target_name = \"princessdiana\"\n",
    "\n",
    "target_class = \"woman\""
   ]
  },
  {
   "cell_type": "markdown",
   "metadata": {},
   "source": [
    "### If you do not want to adjust any of the optional parameters (see below)...\n",
    "\n",
    "# You can now click *Cell > Run All* from the menu bar above.\n",
    "\n",
    "## Go away for 90 minutes."
   ]
  },
  {
   "cell_type": "markdown",
   "metadata": {},
   "source": [
    "---\n",
    "\n",
    "## Optional Parameters\n",
    "\n",
    "The `run_length` variable dictates how many images are generated for each prompt.\n",
    "\n",
    "The default, `medium`, produces 64 images per prompt, but should you choose, you can edit this to either:\n",
    "\n",
    "* `short` - _25_ images per prompt\n",
    "* `long` - _100_ images per prompt\n",
    "\n",
    "Note that shortening the run length will produce results faster, but give you fewer results from which to select a true likeness, whereas lengthening it will slow things down by a fair margin, but produce a much wider choice at the end.\n",
    "\n",
    "----\n",
    "\n",
    "The `spicy_mode` variable determines whether the Ion Cannon will generate images from some of the bolder prompts for you.\n",
    "\n",
    "Think burlesque dancers - as a rule it takes a more laissez-faire approach to clothing and sensuality, although none of the prompts direct full-blown nudity.\n",
    "\n",
    "This mode is off by default, and can be activated by changing `False` to `True` (no quotes).\n",
    "\n",
    "I would gently ask - although I obviously cannot enforce this - that if you are using the Ion Cannon on people that are not yourself, you request permission to do this, as doing otherwise has the potential to lead to a breach of the TOS of Stable Diffusion that you agree to by utilising this code.\n",
    "\n",
    "It produces cosmic horrors if you use it on your dog, though."
   ]
  },
  {
   "cell_type": "code",
   "execution_count": null,
   "metadata": {},
   "outputs": [],
   "source": [
    "run_length = \"medium\"\n",
    "\n",
    "spicy_mode = False"
   ]
  },
  {
   "cell_type": "markdown",
   "metadata": {},
   "source": [
    "# Build Environment"
   ]
  },
  {
   "cell_type": "code",
   "execution_count": null,
   "metadata": {
    "id": "9e1bc458-091b-42f4-a125-c3f0df20f29d",
    "scrolled": true
   },
   "outputs": [],
   "source": [
    "import os\n",
    "\n",
    "prereq_pass_file = '/Dreambooth-Ion-Cannon/install_done'\n",
    "packages_installed = os.path.exists(prereq_pass_file)\n",
    "print('Packages installed?: ' + str(packages_installed))\n",
    "\n",
    "if (not packages_installed):\n",
    "    #BUILD ENV\n",
    "    !pip install omegaconf\n",
    "    !pip install einops\n",
    "    !pip install pytorch-lightning==1.6.5\n",
    "    !pip install test-tube\n",
    "    !pip install transformers\n",
    "    !pip install kornia\n",
    "    !pip install -e git+https://github.com/CompVis/taming-transformers.git@master#egg=taming-transformers\n",
    "    !pip install -e git+https://github.com/openai/CLIP.git@main#egg=clip\n",
    "    !pip install setuptools==59.5.0\n",
    "    !pip install pillow==9.0.1\n",
    "    !pip install torchmetrics==0.6.0\n",
    "    !pip install -e .\n",
    "    !pip install protobuf==3.20.1\n",
    "    !pip install gdown\n",
    "    !pip install pydrive\n",
    "    !pip install -qq diffusers[\"training\"]==0.3.0 transformers ftfy\n",
    "    !pip install -qq \"ipywidgets>=7,<8\"\n",
    "    !pip install ipywidgets==7.7.1\n",
    "    !pip install py7zr==0.20.0\n",
    "    !pip install multivolumefile\n",
    "\n",
    "    # Lazy way of marking installation completion to save time on Cell > Run All repeats\n",
    "    finished = open('install_done', 'w+')\n",
    "    finished.close()"
   ]
  },
  {
   "cell_type": "markdown",
   "metadata": {},
   "source": [
    "# Downloading/Reconstituting Stable Diffusion v1.4"
   ]
  },
  {
   "cell_type": "code",
   "execution_count": null,
   "metadata": {
    "id": "dae11c10"
   },
   "outputs": [],
   "source": [
    "model_path = '/Dreambooth-Ion-Cannon/model.ckpt'\n",
    "valid_model_size = 4265380512 # doing this instead of SHA256 checksum, it's quicker\n",
    "\n",
    "already_exists = os.path.exists(model_path)\n",
    "print('Does model.ckpt exist: ' + str(already_exists))\n",
    "correct_model_size = False\n",
    "\n",
    "if (already_exists):\n",
    "    model_size = os.path.getsize(model_path)\n",
    "    print('model.ckpt size in bytes: ' + str(model_size))\n",
    "    if (model_size == valid_model_size):\n",
    "        print('No need to (re)download, model already present')\n",
    "        correct_model_size= True\n",
    "\n",
    "if ((not already_exists) or (not correct_model_size)):\n",
    "    !git clone https://github.com/laurenceday/Stable-Diffusion-1.4.git\n",
    "\n",
    "    import multivolumefile\n",
    "    import py7zr\n",
    "    with multivolumefile.open('/Dreambooth-Ion-Cannon/Stable-Diffusion-1.4/model.7z', mode='rb') as target_archive:\n",
    "        with py7zr.SevenZipFile(target_archive, 'r') as archive:\n",
    "            archive.extractall()\n",
    "    \n",
    "    # Remove repository and contents so git doesn't complain if it needs to rerun\n",
    "    !rm -rf '/Dreambooth-Ion-Cannon/Stable-Diffusion-1.4'"
   ]
  },
  {
   "cell_type": "markdown",
   "metadata": {},
   "source": [
    "# Retrieving Regularisation Images"
   ]
  },
  {
   "cell_type": "code",
   "execution_count": null,
   "metadata": {},
   "outputs": [],
   "source": [
    "!git clone https://github.com/laurenceday/Ion-Cannon-Regularisation-{target_class}.git\n",
    "\n",
    "!mkdir -p regularisation_images/{target_class}\n",
    "!mv -v Ion-Cannon-Regularisation-{target_class}/{target_class}/*.* regularisation_images/{target_class}"
   ]
  },
  {
   "cell_type": "markdown",
   "metadata": {
    "id": "ad4e50df"
   },
   "source": [
    "# Training and Pruning"
   ]
  },
  {
   "cell_type": "code",
   "execution_count": null,
   "metadata": {},
   "outputs": [],
   "source": [
    "target_token = f\"{target_name} {target_class}\"\n",
    "project_name = f\"{target_name}_model\"\n",
    "model_name = f\"{project_name}.ckpt\""
   ]
  },
  {
   "cell_type": "code",
   "execution_count": null,
   "metadata": {
    "id": "6fa5dd66-2ca0-4819-907e-802e25583ae6",
    "tags": []
   },
   "outputs": [],
   "source": [
    "!rm -rf training_samples/{target_class}/.ipynb_checkpoints\n",
    "!python \"main.py\" \\\n",
    " --base configs/stable-diffusion/v1-finetune_unfrozen.yaml \\\n",
    " -t \\\n",
    " --actual_resume \"model.ckpt\" \\\n",
    " --reg_data_root \"/Dreambooth-Ion-Cannon/regularisation_images\" \\\n",
    " -n {project_name} \\\n",
    " --gpus 0, \\\n",
    " --data_root \"/Dreambooth-Ion-Cannon/training_samples\" \\\n",
    " --max_training_steps 1000 \\\n",
    " --no-test"
   ]
  },
  {
   "cell_type": "code",
   "execution_count": null,
   "metadata": {},
   "outputs": [],
   "source": [
    "directory_paths = !ls -d logs/*"
   ]
  },
  {
   "cell_type": "code",
   "execution_count": null,
   "metadata": {},
   "outputs": [],
   "source": [
    "# This version should automatically prune around 10GB from the ckpt file\n",
    "last_checkpoint_file = directory_paths[-1] + \"/checkpoints/last.ckpt\"\n",
    "!python \"prune_ckpt.py\" --ckpt {last_checkpoint_file}"
   ]
  },
  {
   "cell_type": "code",
   "execution_count": null,
   "metadata": {},
   "outputs": [],
   "source": [
    "last_checkpoint_file_pruned = directory_paths[-1] + \"/checkpoints/last-pruned.ckpt\"\n",
    "!mkdir -p trained_models\n",
    "!mv {last_checkpoint_file_pruned} trained_models/{model_name}"
   ]
  },
  {
   "cell_type": "code",
   "execution_count": null,
   "metadata": {},
   "outputs": [],
   "source": [
    "model_path = f\"/Dreambooth-Ion-Cannon/trained_models/{model_name}\""
   ]
  },
  {
   "cell_type": "markdown",
   "metadata": {},
   "source": [
    "# Image Generation Variable Setup"
   ]
  },
  {
   "cell_type": "code",
   "execution_count": null,
   "metadata": {},
   "outputs": [],
   "source": [
    "if (run_length == \"short\"):\n",
    "    sample_n = 5\n",
    "elif (run_length == \"long\"):\n",
    "    sample_n = 10\n",
    "else:\n",
    "    sample_n = 8"
   ]
  },
  {
   "cell_type": "markdown",
   "metadata": {},
   "source": [
    "# Regular Image Generation"
   ]
  },
  {
   "cell_type": "code",
   "execution_count": null,
   "metadata": {},
   "outputs": [],
   "source": [
    "!python scripts/stable_txt2img.py \\\n",
    " --ddim_eta 0.0 \\\n",
    " --n_samples 2 \\\n",
    " --n_iter 2 \\\n",
    " --seed 42 \\\n",
    " --scale 10.0 \\\n",
    " --ddim_steps 100 \\\n",
    " --ckpt {model_path} \\\n",
    " --prompt \"{target_token}\" \\\n",
    " --outloc \"{target_name}_raw\" \\\n",
    " --outdir \"outputs/{target_name}_raw\""
   ]
  },
  {
   "cell_type": "code",
   "execution_count": null,
   "metadata": {},
   "outputs": [],
   "source": [
    "!python scripts/stable_txt2img.py \\\n",
    " --ddim_eta 0.0 \\\n",
    " --n_samples {sample_n} \\\n",
    " --n_iter {sample_n} \\\n",
    " --seed 2603348708 \\\n",
    " --scale 10.0 \\\n",
    " --ddim_steps 100 \\\n",
    " --ckpt {model_path} \\\n",
    " --prompt \"A beautiful portrait of a {target_token} with diamonds and glittering skin, a detailed painting by greg rutkowski and raymond swanland, featured on cgsociety, fantasy art, detailed painting, artstation hd, photorealistic, fantasy, intricate, elegant, rainbow bubbles, highly detailed, digital painting\" \\\n",
    " --outloc \"{target_name}_ethereal\" \\\n",
    " --outdir \"outputs/{target_name}_ethereal\""
   ]
  },
  {
   "cell_type": "code",
   "execution_count": null,
   "metadata": {},
   "outputs": [],
   "source": [
    "!python scripts/stable_txt2img.py \\\n",
    " --ddim_eta 0.0 \\\n",
    " --n_samples {sample_n} \\\n",
    " --n_iter {sample_n} \\\n",
    " --seed 4085433209 \\\n",
    " --scale 10.0 \\\n",
    " --ddim_steps 100 \\\n",
    " --ckpt {model_path} \\\n",
    " --prompt \"Up close portrait of a beautiful {target_token} in black and white, photorealistic, upper body, art by diego fazio and diegokoi and artgerm, concept art, hyper sharp focus, 8k highly detailed\" \\\n",
    " --outloc \"{target_name}_blackwhite\" \\\n",
    " --outdir \"outputs/{target_name}_blackwhite\""
   ]
  },
  {
   "cell_type": "code",
   "execution_count": null,
   "metadata": {},
   "outputs": [],
   "source": [
    "!python scripts/stable_txt2img.py \\\n",
    " --ddim_eta 0.0 \\\n",
    " --n_samples {sample_n} \\\n",
    " --n_iter {sample_n} \\\n",
    " --seed 69 \\\n",
    " --scale 10.0 \\\n",
    " --ddim_steps 100 \\\n",
    " --ckpt {model_path} \\\n",
    " --prompt \"digital painting of {target_token} by greg rutkowski neon cyberpunk\" \\\n",
    " --outloc \"{target_name}_cyberpunk\" \\\n",
    " --outdir \"outputs/{target_name}_cyberpunk\""
   ]
  },
  {
   "cell_type": "code",
   "execution_count": null,
   "metadata": {},
   "outputs": [],
   "source": [
    "!python scripts/stable_txt2img.py \\\n",
    " --ddim_eta 0.0 \\\n",
    " --n_samples {sample_n} \\\n",
    " --n_iter {sample_n} \\\n",
    " --seed 1201562208 \\\n",
    " --scale 10.0 \\\n",
    " --ddim_steps 100 \\\n",
    " --ckpt {model_path} \\\n",
    " --prompt \"A soft and breathtaking detailed painting of a {target_token} with a crown on their head in the style of gustav klimt, shiny gold, elegant, highly detailed, artstation, fluo colors, concept art, matte, sharp focus, art by gustav klimt and alphonse mucha\" \\\n",
    " --outloc \"{target_name}_crown\" \\\n",
    " --outdir \"outputs/{target_name}_crown\""
   ]
  },
  {
   "cell_type": "code",
   "execution_count": null,
   "metadata": {},
   "outputs": [],
   "source": [
    "!python scripts/stable_txt2img.py \\\n",
    " --ddim_eta 0.0 \\\n",
    " --n_samples {sample_n} \\\n",
    " --n_iter {sample_n} \\\n",
    " --seed 3491584590 \\\n",
    " --scale 10.0 \\\n",
    " --ddim_steps 100 \\\n",
    " --ckpt {model_path} \\\n",
    " --prompt \"bioshock {target_token} as big sister portrait, intricate, elegant, highly detailed, digital painting, artstation, concept art, smooth, sharp focus, illustration, art by artgerm and greg rutkowski and alphonse mucha\" \\\n",
    " --outloc \"{target_name}_bioshock\" \\\n",
    " --outdir \"outputs/{target_name}_bioshock\""
   ]
  },
  {
   "cell_type": "code",
   "execution_count": null,
   "metadata": {},
   "outputs": [],
   "source": [
    "!python scripts/stable_txt2img.py \\\n",
    " --ddim_eta 0.0 \\\n",
    " --n_samples {sample_n} \\\n",
    " --n_iter {sample_n} \\\n",
    " --seed 69 \\\n",
    " --scale 10.0 \\\n",
    " --ddim_steps 100 \\\n",
    " --ckpt {model_path} \\\n",
    " --prompt \"portrait of {target_token} cyberpunk neon - bordered cyborg, 7 0 mm focal length, by ilya kuvshinov, krenz cushart, Greg Rutkowski, trending on artstation sharp focus illustration, aesthetic, very inspirational, arthouse\" \\\n",
    " --outloc \"{target_name}_cyborg\" \\\n",
    " --outdir \"outputs/{target_name}_cyborg\""
   ]
  },
  {
   "cell_type": "code",
   "execution_count": null,
   "metadata": {},
   "outputs": [],
   "source": [
    "!python scripts/stable_txt2img.py \\\n",
    " --ddim_eta 0.0 \\\n",
    " --n_samples {sample_n} \\\n",
    " --n_iter {sample_n} \\\n",
    " --seed 1337 \\\n",
    " --scale 10.0 \\\n",
    " --ddim_steps 100 \\\n",
    " --ckpt {model_path} \\\n",
    " --prompt \"digital painting of {target_token} cosmic background, scenery landscape, professional, award - winning, trending on artstation, hyper detailed, realistic, beautiful, emotional, shiny, golden, picture\" \\\n",
    " --outloc \"{target_name}_cosmic\" \\\n",
    " --outdir \"outputs/{target_name}_cosmic\""
   ]
  },
  {
   "cell_type": "code",
   "execution_count": null,
   "metadata": {},
   "outputs": [],
   "source": [
    "!python scripts/stable_txt2img.py \\\n",
    " --ddim_eta 0.0 \\\n",
    " --n_samples {sample_n} \\\n",
    " --n_iter {sample_n} \\\n",
    " --seed 1337 \\\n",
    " --scale 10.0 \\\n",
    " --ddim_steps 100 \\\n",
    " --ckpt {model_path} \\\n",
    " --prompt \"{target_token} cosmic background realistic shaded perfect face, fine details by realistic shaded lighting poster by ilya kuvshinov katsuhiro otomo, magali villeneuve, artgerm, jeremy lipkin and michael garmash and rob rey\" \\\n",
    " --outloc \"{target_name}_cosmic2\" \\\n",
    " --outdir \"outputs/{target_name}_cosmic2\""
   ]
  },
  {
   "cell_type": "code",
   "execution_count": null,
   "metadata": {},
   "outputs": [],
   "source": [
    "!python scripts/stable_txt2img.py \\\n",
    " --ddim_eta 0.0 \\\n",
    " --n_samples {sample_n} \\\n",
    " --n_iter {sample_n} \\\n",
    " --seed 1694397999 \\\n",
    " --scale 10.0 \\\n",
    " --ddim_steps 100 \\\n",
    " --ckpt {model_path} \\\n",
    " --prompt \"a beautiful portrait of {target_token}, with isolated flowers with strong dark comic outlines, colorful, psychedelic, intricate, elegant, highly detailed, digital painting, artstation, concept art, smooth, sharp focus, illustration, art by artgerm and greg rutkowski and alphonse mucha\" \\\n",
    " --outloc \"{target_name}_flowers\" \\\n",
    " --outdir \"outputs/{target_name}_flowers\""
   ]
  },
  {
   "cell_type": "code",
   "execution_count": null,
   "metadata": {},
   "outputs": [],
   "source": [
    "!python scripts/stable_txt2img.py \\\n",
    " --ddim_eta 0.0 \\\n",
    " --n_samples {sample_n} \\\n",
    " --n_iter {sample_n} \\\n",
    " --seed 2148934030 \\\n",
    " --scale 10.0 \\\n",
    " --ddim_steps 100 \\\n",
    " --ckpt {model_path} \\\n",
    " --prompt \"{target_token}, portrait shinkai makoto studio ghibli studio key hideaki anno sakimichan stanley artgerm lau rossdraws james jean marc simonetti elegant highly detailed digital painting artstation pixiv\" \\\n",
    " --outloc \"{target_name}_ghibli\" \\\n",
    " --outdir \"outputs/{target_name}_ghibli\""
   ]
  },
  {
   "cell_type": "code",
   "execution_count": null,
   "metadata": {},
   "outputs": [],
   "source": [
    "!python scripts/stable_txt2img.py \\\n",
    " --ddim_eta 0.0 \\\n",
    " --n_samples {sample_n} \\\n",
    " --n_iter {sample_n} \\\n",
    " --seed 2283716726 \\\n",
    " --scale 10.0 \\\n",
    " --ddim_steps 100 \\\n",
    " --ckpt {model_path} \\\n",
    " --prompt \"Portrait of a beautiful {target_token}, intricate, elegant, highly detailed, occult imagery, digital painting, artstation, concept art, illustration, by gil elvgen, greg manchess, mucha\" \\\n",
    " --outloc \"{target_name}_paint\" \\\n",
    " --outdir \"outputs/{target_name}_paint\""
   ]
  },
  {
   "cell_type": "code",
   "execution_count": null,
   "metadata": {},
   "outputs": [],
   "source": [
    "!python scripts/stable_txt2img.py \\\n",
    " --ddim_eta 0.0 \\\n",
    " --n_samples {sample_n} \\\n",
    " --n_iter {sample_n} \\\n",
    " --seed 763931883 \\\n",
    " --scale 10.0 \\\n",
    " --ddim_steps 100 \\\n",
    " --ckpt {model_path} \\\n",
    " --prompt \"Duotone trippy 1 9 6 0 s lsd concept illustration of {target_token}. volumetric lighting. golden ratio accidental renaissance. by sachin teng and sergey kolesov and ruan jia and heng z. graffiti art, scifi, fantasy, hyper detailed. octane render. concept art. trending on artstation.\" \\\n",
    " --outloc \"{target_name}_trippy\" \\\n",
    " --outdir \"outputs/{target_name}_trippy\""
   ]
  },
  {
   "cell_type": "markdown",
   "metadata": {},
   "source": [
    "# Spicy Mode Image Generation\n",
    "\n",
    "More prompts coming soon, this is just a stand-in I find works quite well."
   ]
  },
  {
   "cell_type": "code",
   "execution_count": null,
   "metadata": {},
   "outputs": [],
   "source": [
    "if (spicy_mode):\n",
    "    !python scripts/stable_txt2img.py \\\n",
    "     --ddim_eta 0.0 \\\n",
    "     --n_samples {sample_n} \\\n",
    "     --n_iter {sample_n} \\\n",
    "     --seed 3369866510 \\\n",
    "     --scale 10.0 \\\n",
    "     --ddim_steps 100 \\\n",
    "     --ckpt {model_path} \\\n",
    "     --prompt \"A beautiful {target_name} burlesque dancer on a stage, spotlight, highly detailed, digital painting, artstation, concept art, smooth, sharp focus, illustration, cinematic lighting, art by artgerm and greg rutkowski and alphonse mucha\" \\\n",
    "     --outloc \"{target_name}_burlesque\" \\\n",
    "     --outdir \"outputs/{target_name}_burlesque\""
   ]
  }
 ],
 "metadata": {
  "colab": {
   "collapsed_sections": [],
   "provenance": []
  },
  "kernelspec": {
   "display_name": "Python 3",
   "language": "python",
   "name": "python3"
  },
  "language_info": {
   "codemirror_mode": {
    "name": "ipython",
    "version": 3
   },
   "file_extension": ".py",
   "mimetype": "text/x-python",
   "name": "python",
   "nbconvert_exporter": "python",
   "pygments_lexer": "ipython3",
   "version": "3.8.5"
  },
  "vscode": {
   "interpreter": {
    "hash": "b0fa6594d8f4cbf19f97940f81e996739fb7646882a419484c72d19e05852a7e"
   }
  }
 },
 "nbformat": 4,
 "nbformat_minor": 5
}
